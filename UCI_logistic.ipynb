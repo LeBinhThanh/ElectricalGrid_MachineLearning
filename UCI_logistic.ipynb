{
 "cells": [
  {
   "cell_type": "code",
   "execution_count": 1,
   "metadata": {},
   "outputs": [],
   "source": [
    "import pandas as pd\n",
    "\n",
    "from sklearn.preprocessing import StandardScaler\n",
    "from sklearn.metrics import confusion_matrix\n",
    "from sklearn.model_selection import KFold\n",
    "\n",
    "from datetime import datetime\n",
    "from sklearn.linear_model import LogisticRegression"
   ]
  },
  {
   "cell_type": "code",
   "execution_count": 2,
   "metadata": {},
   "outputs": [],
   "source": [
    "# sns.set()\n",
    "start_time = datetime.now()\n",
    "\n",
    "data = pd.read_csv('Data_for_UCI_named.csv')\n",
    "\n",
    "map1 = {'unstable': 0, 'stable': 1}\n",
    "data['stabf'] = data['stabf'].replace(map1)\n",
    "\n",
    "data = data.sample(frac=1)"
   ]
  },
  {
   "cell_type": "code",
   "execution_count": 3,
   "metadata": {},
   "outputs": [
    {
     "data": {
      "text/plain": [
       "(0    0.638429\n",
       " 1    0.361571\n",
       " Name: stabf, dtype: float64,\n",
       " 0    0.634429\n",
       " 1    0.365571\n",
       " Name: stabf, dtype: float64)"
      ]
     },
     "execution_count": 3,
     "metadata": {},
     "output_type": "execute_result"
    }
   ],
   "source": [
    "X = data.iloc[:, :12]\n",
    "y = data.iloc[:, 13]\n",
    "\n",
    "X_training = X.iloc[:7000, :]\n",
    "y_training = y.iloc[:7000]\n",
    "\n",
    "X_testing = X.iloc[3000:, :]\n",
    "y_testing = y.iloc[3000:]\n",
    "\n",
    "ratio_training = y_training.value_counts(normalize=True)\n",
    "ratio_testing = y_testing.value_counts(normalize=True)\n",
    "ratio_training, ratio_testing"
   ]
  },
  {
   "cell_type": "code",
   "execution_count": 4,
   "metadata": {},
   "outputs": [],
   "source": [
    "X_training = X_training.values\n",
    "y_training = y_training.values\n",
    "\n",
    "X_testing = X_testing.values\n",
    "y_testing = y_testing.values"
   ]
  },
  {
   "cell_type": "code",
   "execution_count": 5,
   "metadata": {},
   "outputs": [],
   "source": [
    "scaler = StandardScaler()\n",
    "X_training = scaler.fit_transform(X_training)\n",
    "X_testing = scaler.transform(X_testing)"
   ]
  },
  {
   "cell_type": "code",
   "execution_count": 6,
   "metadata": {},
   "outputs": [
    {
     "name": "stdout",
     "output_type": "stream",
     "text": [
      "Model evaluation\n",
      "\n",
      "Round 1 - | Accuracy: 82.14 %\n",
      "Round 2 - | Accuracy: 79.57 %\n",
      "Round 3 - | Accuracy: 81.57 %\n",
      "Round 4 - | Accuracy: 81.57 %\n",
      "Round 5 - | Accuracy: 81.00 %\n",
      "Round 6 - | Accuracy: 81.29 %\n",
      "Round 7 - | Accuracy: 82.57 %\n",
      "Round 8 - | Accuracy: 81.86 %\n",
      "Round 9 - | Accuracy: 84.29 %\n",
      "Round 10 - | Accuracy: 82.43 %\n"
     ]
    }
   ],
   "source": [
    "from sklearn.metrics import accuracy_score\n",
    "cross_val_round = 1\n",
    "print(f'Model evaluation\\n')\n",
    "classifier = LogisticRegression(random_state=0)\n",
    "\n",
    "for train_index, val_index in KFold(10, shuffle=True, random_state=10).split(X_training):\n",
    "    x_train, x_val = X_training[train_index], X_training[val_index]\n",
    "    y_train ,y_val = y_training[train_index], y_training[val_index]\n",
    "    classifier.fit(x_train, y_train)\n",
    "    y_pred = classifier.predict(x_val)\n",
    "    classifier_accuracy = accuracy_score(y_val, y_pred)\n",
    "    print(f'Round {cross_val_round} - | Accuracy: {classifier_accuracy * 100:.2f} %')\n",
    "    cross_val_round += 1"
   ]
  },
  {
   "cell_type": "code",
   "execution_count": 7,
   "metadata": {},
   "outputs": [],
   "source": [
    "y_pred = classifier.predict(X_testing)\n",
    "y_pred[y_pred <= 0.5] = 0\n",
    "y_pred[y_pred > 0.5] = 1"
   ]
  },
  {
   "cell_type": "code",
   "execution_count": 8,
   "metadata": {},
   "outputs": [
    {
     "data": {
      "text/html": [
       "<div>\n",
       "<style scoped>\n",
       "    .dataframe tbody tr th:only-of-type {\n",
       "        vertical-align: middle;\n",
       "    }\n",
       "\n",
       "    .dataframe tbody tr th {\n",
       "        vertical-align: top;\n",
       "    }\n",
       "\n",
       "    .dataframe thead th {\n",
       "        text-align: right;\n",
       "    }\n",
       "</style>\n",
       "<table border=\"1\" class=\"dataframe\">\n",
       "  <thead>\n",
       "    <tr style=\"text-align: right;\">\n",
       "      <th></th>\n",
       "      <th>Predicted Unstable</th>\n",
       "      <th>Predicted Stable</th>\n",
       "    </tr>\n",
       "  </thead>\n",
       "  <tbody>\n",
       "    <tr>\n",
       "      <th>Actual Unstable</th>\n",
       "      <td>3916</td>\n",
       "      <td>525</td>\n",
       "    </tr>\n",
       "    <tr>\n",
       "      <th>Actual Stable</th>\n",
       "      <td>784</td>\n",
       "      <td>1775</td>\n",
       "    </tr>\n",
       "  </tbody>\n",
       "</table>\n",
       "</div>"
      ],
      "text/plain": [
       "                 Predicted Unstable  Predicted Stable\n",
       "Actual Unstable                3916               525\n",
       "Actual Stable                   784              1775"
      ]
     },
     "execution_count": 8,
     "metadata": {},
     "output_type": "execute_result"
    }
   ],
   "source": [
    "cm = pd.DataFrame(data=confusion_matrix(y_testing, y_pred, labels=[0, 1]),\n",
    "                  index=[\"Actual Unstable\", \"Actual Stable\"],\n",
    "                  columns=[\"Predicted Unstable\", \"Predicted Stable\"])\n",
    "cm"
   ]
  },
  {
   "cell_type": "code",
   "execution_count": 9,
   "metadata": {},
   "outputs": [
    {
     "name": "stdout",
     "output_type": "stream",
     "text": [
      "Accuracy per the confusion matrix: 81.30%\n"
     ]
    }
   ],
   "source": [
    "print(f'Accuracy per the confusion matrix: {((cm.iloc[0, 0] + cm.iloc[1, 1]) / len(y_testing) * 100):.2f}%')"
   ]
  },
  {
   "cell_type": "code",
   "execution_count": 10,
   "metadata": {},
   "outputs": [
    {
     "name": "stdout",
     "output_type": "stream",
     "text": [
      "\n",
      "Start time 2021-11-02 18:39:24.876929\n",
      "End time 2021-11-02 18:39:44.681380\n",
      "Time elapsed 0:00:19.804451\n"
     ]
    }
   ],
   "source": [
    "end_time = datetime.now()\n",
    "\n",
    "print('\\nStart time', start_time)\n",
    "print('End time', end_time)\n",
    "print('Time elapsed', end_time - start_time)"
   ]
  },
  {
   "cell_type": "code",
   "execution_count": null,
   "metadata": {},
   "outputs": [],
   "source": []
  }
 ],
 "metadata": {
  "kernelspec": {
   "display_name": "Python 3",
   "language": "python",
   "name": "python3"
  },
  "language_info": {
   "codemirror_mode": {
    "name": "ipython",
    "version": 3
   },
   "file_extension": ".py",
   "mimetype": "text/x-python",
   "name": "python",
   "nbconvert_exporter": "python",
   "pygments_lexer": "ipython3",
   "version": "3.7.6"
  }
 },
 "nbformat": 4,
 "nbformat_minor": 4
}
